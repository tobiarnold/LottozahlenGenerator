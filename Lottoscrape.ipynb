{
 "cells": [
  {
   "cell_type": "markdown",
   "id": "74188d31",
   "metadata": {},
   "source": [
    "# Lottozahlen Verteilung von 1955-2022"
   ]
  },
  {
   "cell_type": "code",
   "execution_count": 1,
   "id": "f037b3c3",
   "metadata": {},
   "outputs": [
    {
     "data": {
      "text/html": [
       "<style>.container { width:100% !important; }</style>"
      ],
      "text/plain": [
       "<IPython.core.display.HTML object>"
      ]
     },
     "metadata": {},
     "output_type": "display_data"
    }
   ],
   "source": [
    "from IPython.display import display, HTML\n",
    "display(HTML(\"<style>.container { width:100% !important; }</style>\"))\n",
    "import requests\n",
    "from bs4 import BeautifulSoup\n",
    "import pandas as pd\n",
    "pd.set_option('display.max_rows', 49)\n",
    "import matplotlib.pyplot as plt\n",
    "#import seaborn as sns\n",
    "import plotly.express as px"
   ]
  },
  {
   "cell_type": "code",
   "execution_count": null,
   "id": "257603d7",
   "metadata": {},
   "outputs": [],
   "source": [
    "url = 'https://www.lottozahlenonline.de/statistik/beide-spieltage/lottozahlen-archiv.php?j={}#lottozahlen-archiv'\n",
    "jahre = list(range(1955, 2023, 1))\n",
    "gesamte_liste=[]\n",
    "year=[]\n",
    "lottozahlen = []\n",
    "häufigkeit=[]\n",
    "for jahr in jahre:\n",
    "    query = jahr\n",
    "    #print(jahr)\n",
    "    formatted_url = url.format(query)\n",
    "    #print(formatted_url)\n",
    "    response = requests.get(formatted_url)\n",
    "    soup = BeautifulSoup(response.content, 'html.parser')\n",
    "    elements = soup.find_all(class_=['haeufigkeit_zahl', 'haeufigkeit_anzahl'])\n",
    "    for element in elements:\n",
    "        gesamte_liste.append(int(element.text))\n",
    "    for i, element in enumerate(gesamte_liste):\n",
    "        if i % 2 == 0:\n",
    "            lottozahlen.append(element)\n",
    "    for i, element in enumerate(gesamte_liste):\n",
    "        if i % 2 != 0:\n",
    "            häufigkeit.append(element)\n",
    "    while len(year) < len(lottozahlen):\n",
    "        year.append(jahr)"
   ]
  },
  {
   "cell_type": "code",
   "execution_count": null,
   "id": "43c7549c",
   "metadata": {},
   "outputs": [],
   "source": [
    "#df = pd.DataFrame({'Lottozahlen': lottozahlen, 'Häufigkeiten': häufigkeit,'Jahr':year})\n",
    "df = pd.DataFrame({'Lottozahlen': lottozahlen, 'Häufigkeiten': häufigkeit})\n",
    "df.info()"
   ]
  },
  {
   "cell_type": "code",
   "execution_count": null,
   "id": "3fd9ba6e",
   "metadata": {},
   "outputs": [],
   "source": [
    "#df.head()"
   ]
  },
  {
   "cell_type": "code",
   "execution_count": null,
   "id": "9e7a81e9",
   "metadata": {},
   "outputs": [],
   "source": [
    "grouped = df.groupby('Lottozahlen')\n",
    "count = grouped['Häufigkeiten'].sum()\n",
    "count = count.reset_index()\n",
    "#count.head()"
   ]
  },
  {
   "cell_type": "code",
   "execution_count": null,
   "id": "b257cad1",
   "metadata": {},
   "outputs": [],
   "source": [
    "#plt.figure(figsize=(20, 10))\n",
    "#sns.barplot(x='Lottozahlen', y='Häufigkeiten', data=count);"
   ]
  },
  {
   "cell_type": "code",
   "execution_count": null,
   "id": "46327a9d",
   "metadata": {},
   "outputs": [],
   "source": [
    "count= count.sort_values(by='Häufigkeiten', ascending=True)\n",
    "print(\"Lottozahlen Verteilung aufsteigend\")\n",
    "count.style.hide(axis='index')"
   ]
  },
  {
   "cell_type": "code",
   "execution_count": null,
   "id": "354043c2",
   "metadata": {},
   "outputs": [],
   "source": [
    "fig = px.histogram(count, x='Lottozahlen', y='Häufigkeiten', nbins=49)\n",
    "fig.update_layout(bargap=0.1)\n",
    "fig.update_layout(title='Lottozahlen Verteilung 1955-2022')\n",
    "tickvals = list(range(0,50,2))\n",
    "ticktext = list(range(0,50,2))\n",
    "fig.update_layout(xaxis=dict(tickmode='array', tickvals=tickvals, ticktext=ticktext))\n",
    "#fig.update_layout(xaxis=dict(tickangle=-45))\n",
    "fig.update_layout(margin=dict(l=0, r=0, t=30, b=0))\n",
    "fig.show()"
   ]
  },
  {
   "cell_type": "code",
   "execution_count": null,
   "id": "e1b79b0c",
   "metadata": {},
   "outputs": [],
   "source": []
  }
 ],
 "metadata": {
  "kernelspec": {
   "display_name": "Python 3 (ipykernel)",
   "language": "python",
   "name": "python3"
  },
  "language_info": {
   "codemirror_mode": {
    "name": "ipython",
    "version": 3
   },
   "file_extension": ".py",
   "mimetype": "text/x-python",
   "name": "python",
   "nbconvert_exporter": "python",
   "pygments_lexer": "ipython3",
   "version": "3.9.12"
  }
 },
 "nbformat": 4,
 "nbformat_minor": 5
}
